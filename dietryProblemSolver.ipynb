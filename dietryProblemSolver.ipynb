{
 "cells": [
  {
   "cell_type": "code",
   "execution_count": 100,
   "metadata": {},
   "outputs": [],
   "source": [
    "# ------------------------------------------------ ### PROBLEMA DA DIETA ### ------------------------------------------------\n",
    "\n",
    "#       Tenta resolver o problema de dado N elementos e M caracteristicas escolher K porções de cada elemento tal que a seguinte \n",
    "# lei não é violada:\n",
    "# => Somatório[i até N] (xi*mij) <= ou >= Tj (xi é o K do elemento i, e mij é a j-éssima caracteristica, indo até M, do i-éssimo \n",
    "# elemento) e Tj é um valor dado. Isso deve ser verdade para todas as M características dadas.\n",
    "\n",
    "import numpy as np\n",
    "import math\n",
    "from random import randrange, uniform\n",
    "from scipy.optimize import linprog"
   ]
  },
  {
   "cell_type": "code",
   "execution_count": 101,
   "metadata": {},
   "outputs": [],
   "source": [
    "# Vamos criar um exemplo de problema, será importante para nós no futuro!\n",
    "\n",
    "numberElements = 5\n",
    "numberCharacteristcs = 10\n",
    "space = 100\n",
    "\n",
    "file = open('problem ' + str(numberElements) + '-' + str(numberCharacteristcs) + '.txt', 'w')\n",
    "\n",
    "file.write(str(numberElements) + '\\n')\n",
    "file.write(str(numberCharacteristcs) + '\\n')\n",
    "for i in range(numberElements):\n",
    "    for j in range(numberCharacteristcs):\n",
    "        file.write(str(randrange(0, space)) + ' ')\n",
    "    file.write(str(randrange(0, space / 10)))\n",
    "    file.write('\\n')\n",
    "for j in range(numberCharacteristcs + 1):\n",
    "        file.write(str(randrange(space * 4, space * 10)) + ' ')\n",
    "\n",
    "file.close()"
   ]
  },
  {
   "cell_type": "code",
   "execution_count": 102,
   "metadata": {},
   "outputs": [
    {
     "name": "stdout",
     "output_type": "stream",
     "text": [
      "[[4.6190e+01 8.0000e-02 9.5100e+00 1.5700e+00 2.5000e+00]\n",
      " [1.7080e+01 4.0000e-02 2.4900e+00 1.6900e+00 3.0000e+00]\n",
      " [8.0000e-02 1.0000e-02 2.4000e-01 6.0000e-02 5.0000e-01]\n",
      " [4.6110e+01 6.0000e-01 6.2000e-01 8.0000e-01 2.5000e+00]\n",
      " [4.8200e+01 2.0200e+00 2.4770e+01 7.7000e-01 3.0000e+00]\n",
      " [1.6785e+02 1.3630e+01 3.1000e-01 1.1020e+01 4.0000e+00]\n",
      " [2.6800e+02 5.4100e+00 4.1740e+01 1.3650e+01 0.0000e+00]]\n"
     ]
    }
   ],
   "source": [
    "# Vamos ler agora os exemplos criados\n",
    "\n",
    "#file = open('problem ' + str(numberElements) + '-' + str(numberCharacteristcs) + '.txt', 'r')\n",
    "file = open('real problem.txt' , 'r')\n",
    "\n",
    "nE = int(file.readline())\n",
    "nC = int(file.readline())\n",
    "\n",
    "matrix = np.zeros((nE+1,nC+1))\n",
    "for i in range(nE + 1):\n",
    "    aux = (file.readline().split())\n",
    "    matrix[i] = [float(item) for item in aux]\n",
    "matrix[-1][-1] = 0\n",
    "\n",
    "print(matrix) "
   ]
  },
  {
   "cell_type": "code",
   "execution_count": 103,
   "metadata": {},
   "outputs": [],
   "source": [
    "# Após ler os exemplos vamos achar uma resposta para a solução, primeiro de tudo vamos setar as listas a seguir\n",
    "\n",
    "variables = [0] * nE # Lista das variáveis a serem usadas\n",
    "constraints = [0] * nC # Lista de restrições, ou seja, xi*mij => variables[i]*matrix[i][j]\n",
    "\n",
    "# Função para decidir se é viável\n",
    "def isViable(constraint, j):\n",
    "    return constraint <= matrix[nE][j]\n",
    "\n",
    "# Vamos criar uma função para calcular a lista dos constraints\n",
    "def calcConstraints():\n",
    "    for j in range(nC):\n",
    "        aux = 0\n",
    "        for i in range(nE):\n",
    "            flag = True\n",
    "            while flag:\n",
    "                aux = aux + (variables[i] * matrix[i][j])\n",
    "                if isViable(aux, j):\n",
    "                    flag = False\n",
    "                else:\n",
    "                    variables[i] = uniform(0, space)\n",
    "        constraints[j] = aux\n",
    "    return constraints\n",
    "\n",
    "# E agora a função objetiva\n",
    "def calcObjFunction():\n",
    "    aux = 0\n",
    "    for i in range(nE):\n",
    "        aux = aux + (matrix[i][nC] * variables[i])\n",
    "    return aux\n",
    "\n",
    "def inv(x):\n",
    "    return x * (-1)"
   ]
  },
  {
   "cell_type": "code",
   "execution_count": 106,
   "metadata": {},
   "outputs": [
    {
     "name": "stdout",
     "output_type": "stream",
     "text": [
      "Funcao Objetiva: [2.5, 3.0, 0.5, 2.5, 3.0, 4.0]\n",
      "Coeficientes: [[-46.19, -17.08, -0.08, -46.11, -48.2, -167.85], [-0.08, -0.04, -0.01, -0.6, -2.02, -13.63], [-9.51, -2.49, -0.24, -0.62, -24.77, -0.31], [-1.57, -1.69, -0.06, -0.8, -0.77, -11.02]]\n",
      "Valores Nutricionais Mínimos: [-268.0, -5.41, -41.74, -13.65]\n",
      "Limites [(0.1, None), (0.1, None), (0.5, None), (0.1, None), (0.1, None), (0, 1)]\n",
      "     fun: 10.904436390823102\n",
      " message: 'Optimization terminated successfully.'\n",
      "     nit: 12\n",
      "   slack: array([ 9.37505868, 11.04493044,  0.        ,  0.        ,  0.74473392,\n",
      "        0.        ,  0.        ,  0.        ,  1.23086719,  0.        ])\n",
      "  status: 0\n",
      " success: True\n",
      "       x: array([0.84473392, 0.1       , 0.5       , 0.1       , 1.33086719,\n",
      "       1.        ])\n"
     ]
    }
   ],
   "source": [
    "#Agora vamos tentar achar a solução por tentativa, queremos a menor função objetiva!!\n",
    "\n",
    "# minimizar c quando A_lb >= b, adaptando\n",
    "# minimizar c quando A_ub * (-1) <= b * (-1)\n",
    "\n",
    "# Tratando c\n",
    "# Valores de c = [x[nC] for x in matrix]\n",
    "# A função optmizations.linprog() sempre minimiza\n",
    "\n",
    "objFun = [x[nC] for x in matrix]\n",
    "del objFun[-1]\n",
    "#objFun = [i*(-1) for i in objFun] #caso queiramos maximizar\n",
    "\n",
    "print(f'Funcao Objetiva: {objFun}')\n",
    "\n",
    "#Tratando A_lb\n",
    "#Valores de A_lb = matrix[0:nE][0:nC-1])\n",
    "A_lb = list()\n",
    "\n",
    "for j in range(nC):\n",
    "    A_lb.append(list())\n",
    "    for i in range(nE):\n",
    "        A_lb[j].append(inv(matrix[i][j])) #função inv inverte o valor da A, pois a inequação é >=.\n",
    "\n",
    "print(f'Coeficientes: {A_lb}')\n",
    "\n",
    "#Tratando b\n",
    "#Valor de b = matrix[nE][0:nC]\n",
    "\n",
    "b = list()\n",
    "for i in matrix[nE]:\n",
    "    b.append(inv(i)) #função inv inverte o valor da b, pois a inequação é >=.\n",
    "    \n",
    "del b[-1]\n",
    "print(f'Valores Nutricionais Mínimos: {b}')\n",
    "\n",
    "#Tratando os limites\n",
    "x_bnds = list()\n",
    "\n",
    "for i in range(nE):\n",
    "    x_bnds.append((0.1, None))\n",
    "x_bnds[2] = (0.5, None)\n",
    "x_bnds[5] = (0, 1)\n",
    "print(f'Limites {x_bnds}')\n",
    "\n",
    "res = linprog(objFun, A_lb, b, bounds=(x_bnds))\n",
    "print(res)        "
   ]
  },
  {
   "cell_type": "code",
   "execution_count": 109,
   "metadata": {},
   "outputs": [
    {
     "name": "stdout",
     "output_type": "stream",
     "text": [
      "Archive printed in .txt successfully!!\n"
     ]
    }
   ],
   "source": [
    "file = open('result.txt', 'w')\n",
    "\n",
    "file.write(str(res))\n",
    "print(\"Archive printed in .txt successfully!!\")\n",
    "\n",
    "file.close()"
   ]
  },
  {
   "cell_type": "code",
   "execution_count": null,
   "metadata": {},
   "outputs": [],
   "source": []
  }
 ],
 "metadata": {
  "kernelspec": {
   "display_name": "Python 3",
   "language": "python",
   "name": "python3"
  },
  "language_info": {
   "codemirror_mode": {
    "name": "ipython",
    "version": 3
   },
   "file_extension": ".py",
   "mimetype": "text/x-python",
   "name": "python",
   "nbconvert_exporter": "python",
   "pygments_lexer": "ipython3",
   "version": "3.6.6"
  }
 },
 "nbformat": 4,
 "nbformat_minor": 2
}
